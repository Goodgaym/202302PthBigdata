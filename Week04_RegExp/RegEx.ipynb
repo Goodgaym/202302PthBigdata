{
 "cells": [
  {
   "cell_type": "markdown",
   "metadata": {},
   "source": [
    "# 정규표현식 (Regular Expression)   \n",
    "\n",
    "> 문자열의 일정한 패턴을 표현하는 형식언어. 정규식이라고도 한다.\n",
    ">   \n",
    "> 정규표현식을 이용하면 문자열을 가져오거나 처리할때 특별한 규칙을 만들어 코드를 간결하게 만들 수 있다.   \n",
    "\n",
    "\n",
    "- 파이썬 : re 모듈을 이용하여 정규표현식을 사용할 수 있다.   "
   ]
  },
  {
   "cell_type": "markdown",
   "metadata": {},
   "source": [
    "### 메타문자\n",
    "\n",
    "표현식에서 특정 의미를 가지는 문자   \n",
    "\n",
    "x == 문자열   \n",
    "\n",
    "|표현식 | 의미\n",
    "|-------|--------------------\n",
    "|`^`x   | 문자열의 시작. 'x'문자로 시작   \n",
    "|x`$`   | 문자열의 끝. 'x'문자로 종료\n",
    "|`.`x   | 임의의 한 문자의 자리수. 문자열이 x로 끝난다는 것을 의미\n",
    "|x`?`   | 존재 여부. x 문자가 존재 or 존재하지 않음\n",
    "|x`+`   | 반복. x 문자가 한번 이상 반복\n",
    "|x`*`   | 반복 여부. x 문자가 0번 or n번 반복\n",
    "|x`\\|`y  | or. x 또는 y 문자가 존재\n",
    "|`(`x`)`| 그룹. x를 그룹으로 처리\n",
    "|`(`x`)(`y`)` | 그룹들의 집합. 앞에서 부터 순서대로 번호 부여\n",
    "|(x)(`?:`y) | 그룹들의 집합에 대한 예외. 그룹 집합으로 관리되지 않음\n",
    "|x`{n}`     | 반복. x문자가 n번 반복\n",
    "|x`{n,}`    | 반복. x문자가 n번 이상 반복\n",
    "|x`{n,m}`   | 반복. x문자가 최소 n번 이상 최대 m번 이하 반복"
   ]
  },
  {
   "cell_type": "markdown",
   "metadata": {},
   "source": [
    "특별한 메타문자   \n",
    "\n",
    "| 표현식    | 의미\n",
    "|-----------|--------------------------------\n",
    "|`[`xy`]`   | 문자 선택. x와 y중 하나를 의미\n",
    "|[`^`xy]    | not. x와 y를 제외한 문자\n",
    "|[x`-`y]    | range. x~z사이의 문자\n",
    "|`\\^`       | escape. ^를 문자로 사용\n",
    "|`\\b`       | word boundary. 문자와 공백 사이의 문자\n",
    "|`\\B`       | non word boundary. 문자와 공백 사이가 아닌 문자\n",
    "|`\\d`       | digit. 숫자\n",
    "|`\\D`       | non digit. 숫자가 아닌 것\n",
    "|`\\s`       | space. 공백문자\n",
    "|`\\S`       | non space. 공백문자가 아닌 것\n",
    "|`\\t`       | tab. 탭 문자\n",
    "|`\\v`       | vertical tab. 수직 탭\n",
    "|`\\w`       | word. 알파벳 + 숫자 + _ 중의 한 문자\n",
    "|`\\W`       | non word. 알파벳 + 숫자 + _ 가 아닌 문자"
   ]
  },
  {
   "cell_type": "markdown",
   "metadata": {},
   "source": [
    "### Flag\n",
    "\n",
    "| Flag      | 의미\n",
    "|-----------|-------------------------\n",
    "| g         | Global. 대상 문자열 내의 모든 패턴들을 검색\n",
    "| i         | Ignore case. 대/소문자 식별하지 않음\n",
    "| m         | Multi line. 대상 문자열이 다중 라인인 경우에도 검색"
   ]
  },
  {
   "cell_type": "markdown",
   "metadata": {},
   "source": [
    "### 문자 클래스 (character class)\n",
    "\n",
    "#### 문자클래스\n",
    "#### `[]` : '[' 와 ']' 사이의 문자들 중에 선택    \n",
    "\n",
    "> - 예제   \n",
    "> `[abc]` : 'a', 'b', 'c'가 문자열에 포함되어 있는 경우 선택    \n",
    "> -> \"a\" = 선택, \"before\" = 선택 / \"none\" = 선택 안됨\n",
    "\n",
    "<br/>\n",
    "\n",
    "#### 범위\n",
    "#### `-` : 두 문자 사이의 범위   \n",
    "\n",
    "> - 예제    \n",
    "> `[a-c]` : 위의 `[abc]` 예제와 동일\n",
    "> `[0-5]` : `[012345]`와 동일\n",
    "\n",
    "> - 자주 사용하는 표현식         \n",
    "> `[a-zA-Z]` : 대,소문자 알파벳  \n",
    "> `[0-9]` : 모든 숫자 (0 ~ 9)   \n",
    "> `[0-9a-zA-Z]` : 특수문자를 제외한 모든 문자"
   ]
  },
  {
   "cell_type": "code",
   "execution_count": 2,
   "metadata": {},
   "outputs": [
    {
     "name": "stdout",
     "output_type": "stream",
     "text": [
      "<re.Match object; span=(0, 1), match='b'>\n",
      "None\n"
     ]
    }
   ],
   "source": [
    "# 문자클래스\n",
    "\n",
    "import re\n",
    "\n",
    "cr = re.compile('[a-zA-Z]')\n",
    "\n",
    "m_str = cr.match(\"before\")\n",
    "print(m_str)\n",
    "\n",
    "m_non = cr.match(\"010111\")\n",
    "print(m_non)"
   ]
  },
  {
   "cell_type": "markdown",
   "metadata": {},
   "source": [
    "### 시작문자, 끝문자   \n",
    "\n",
    "#### - 시작문자\n",
    "#### `^`x : 문자열의 시작이 x   \n",
    "\n",
    "> - 예제 1  \n",
    "> `^a` : a로 시작되는 모든 문자열   \n",
    "> -> affort, apple = 선택 / before = 선택 안됨   \n",
    "\n",
    "> - 예제 2   \n",
    "> `^(www)` : www로 시작되는 모든 문자열   \n",
    "> -> www.naver.com, www.google.com = 선택 / bing.com = 선택 안됨\n",
    "\n",
    "<br/>\n",
    "\n",
    "#### - 끝문자\n",
    "#### x`$` : 문자열의 끝이 x   \n",
    "\n",
    "> - 예제 1   \n",
    "> `z$`        : z로 끝나는 모든 문자열   \n",
    "\n",
    "> - 예제 2   \n",
    "> `.*\\.com$` : .com으로 끝나는 모든 문자열   \n",
    "> -> google.com = 선택 / daum.net = 선택 안됨 \n"
   ]
  },
  {
   "cell_type": "code",
   "execution_count": 3,
   "metadata": {},
   "outputs": [
    {
     "name": "stdout",
     "output_type": "stream",
     "text": [
      "<re.Match object; span=(0, 3), match='www'>\n",
      "None\n"
     ]
    }
   ],
   "source": [
    "start = re.compile('^(www)')\n",
    "\n",
    "m_naver = start.match('www.naver.com')\n",
    "print(m_naver)\n",
    "\n",
    "m_bing = start.match('bing.com')\n",
    "print(m_bing)"
   ]
  },
  {
   "cell_type": "code",
   "execution_count": null,
   "metadata": {},
   "outputs": [],
   "source": [
    "re_end = re.compile(\".*\\.com$\")\n",
    "\n",
    "m_google = re_end.match(\"google.com\")\n",
    "print(m_google)"
   ]
  },
  {
   "cell_type": "markdown",
   "metadata": {},
   "source": [
    "### .(dot) 문자 \n",
    "\n",
    "#### `.` : 개행문자(`\\n`)을 제외한 모든 문자   \n",
    "> 정규식 작성시 `re.DOTALL` 옵션을 주면 .(dot)과 `\\n`도 매치된다.\n",
    "\n",
    "> - 예제   \n",
    "> `a.b` : \"a + 문자 1글자 + b\"   \n",
    "> -> abb acb a0b = 선택, abbb = 선택 / abc = 선택 안됨, abcb = 선택 안됨\n",
    "\n",
    "> - 예제\n",
    "> `a[.]b` : \"a + . + b\". 이때는 문자 그대로의 '.'을 의미한다.\n",
    "> -> a.b = 선택 / abb = 선택 안됨"
   ]
  },
  {
   "cell_type": "code",
   "execution_count": 7,
   "metadata": {},
   "outputs": [
    {
     "name": "stdout",
     "output_type": "stream",
     "text": [
      "<re.Match object; span=(0, 3), match='abb'>\n",
      "<re.Match object; span=(0, 3), match='acb'>\n",
      "<re.Match object; span=(0, 3), match='a0b'>\n",
      "None\n",
      "<re.Match object; span=(0, 3), match='abb'>\n",
      "None\n"
     ]
    }
   ],
   "source": [
    "re_dot = re.compile(\"a.b\")\n",
    "\n",
    "dot_abb = re_dot.match('abb')\n",
    "print(dot_abb)\n",
    "\n",
    "dot_acb = re_dot.match('acb')\n",
    "print(dot_acb)\n",
    "\n",
    "dot_a0b = re_dot.match('a0b')\n",
    "print(dot_a0b)\n",
    "\n",
    "dot_abc = re_dot.match('abc')\n",
    "print(dot_abc)\n",
    "\n",
    "dot_abbb = re_dot.match('abbb')\n",
    "print(dot_abbb)\n",
    "\n",
    "dot_abcb = re_dot.match('abcb')\n",
    "print(dot_abcb)"
   ]
  },
  {
   "cell_type": "markdown",
   "metadata": {},
   "source": [
    "### 반복\n",
    "\n",
    "#### x`*` : x가 0번~ n번 반복    \n",
    "\n",
    "> - 예제   \n",
    "> `.*(\\.com)$` : .com 이나 .com으로 끝나는 모든 문자열 (.com 앞의 문자열 없어도 됨)    \n",
    "> -> .com, a.com, naver.com = 선택 / \\n.com = 선택 안됨   \n",
    "\n",
    "<br/>\n",
    "\n",
    "#### x`+` : x가 1번~ n번 반복   \n",
    "\n",
    "> - 예제   \n",
    "> `.+(\\.com)$` : .com 으로 끝나는 모든 문자열 (.com 앞의 문자열 있어야 함)    \n",
    "> -> a.com, naver.com = 선택 / .com, \\n.com = 선택 안됨   \n",
    "\n",
    "<br/>\n",
    "\n",
    "#### x`?` : x가 0번~ 1번 있음   \n",
    "\n",
    "> - 예제   \n",
    "> `0[ -]?0` : 0과 0 사이에 공백 또는 '-' 가 있거나 어느 문자도 없는 경우   \n",
    "> -> 0 0, 0-0, 00 = 선택 / 010, 0a0 = 선택 안됨   \n",
    "\n",
    "<br/>\n",
    "\n",
    "#### `{}` : 반복 횟수 선택   \n",
    "`{최소반복횟수, 최대반복횟수}`   \n",
    "ex) `{2, 5}`  : 2번에서 5번까지 반복   \n",
    "\n",
    "> - 예제   \n",
    "> `ca{2, 5}t` : c + a를 2번에서 5번까지 반복 + t   \n",
    "> -> cat, caaaaaat =선택안됨 / caat, caaat =선택    \n",
    "\n"
   ]
  },
  {
   "cell_type": "code",
   "execution_count": 8,
   "metadata": {},
   "outputs": [],
   "source": [
    "# 컴파일 없이 바로 매치, 서치 하기\n",
    "\n",
    "m = re.match('[a-z]+', \"python\")\n",
    "s = re.search('[a-z]+', \"python\")\n",
    "\n",
    "re_match = re.match(\"ca{2,5}t\", \"caat\")\n"
   ]
  },
  {
   "cell_type": "markdown",
   "metadata": {},
   "source": [
    "### 정규표현식 특수 옵션\n",
    "\n",
    "DOTALL(S)       : . 이 줄바꿈 문자를 포함해 모든 문자 매치   \n",
    "IGNORECASE(I)   : 대소문자 관계없이 매치   \n",
    "MULTILINE(M)    : 여러 줄과 매치 (^, $ 메타문자)   \n",
    "VERBOSE(X)      : verbose 모드. 정규식을 보기 편하게 주석도 사용가능   \n",
    "\n",
    "약어 사용가능"
   ]
  },
  {
   "cell_type": "markdown",
   "metadata": {},
   "source": [
    "### 사용 예시\n",
    "#### 이메일\n",
    "```\n",
    "^[0-9a-zA-Z]([-_\\.]?[0-9a-zA-Z])*@[0-9a-zA-Z]([-_\\.]?[0-9a-zA-Z])*\\.[a-zA-Z]{2,3}$\n",
    "```\n",
    "#### 전화번호\n",
    "```\n",
    "^01[0|1|6|7|9]{3}[ -]?\\[0-9]{3,4}[ -]?[0-9]{4}$\n",
    "```"
   ]
  }
 ],
 "metadata": {
  "kernelspec": {
   "display_name": ".venv",
   "language": "python",
   "name": "python3"
  },
  "language_info": {
   "codemirror_mode": {
    "name": "ipython",
    "version": 3
   },
   "file_extension": ".py",
   "mimetype": "text/x-python",
   "name": "python",
   "nbconvert_exporter": "python",
   "pygments_lexer": "ipython3",
   "version": "3.11.4"
  },
  "orig_nbformat": 4
 },
 "nbformat": 4,
 "nbformat_minor": 2
}
