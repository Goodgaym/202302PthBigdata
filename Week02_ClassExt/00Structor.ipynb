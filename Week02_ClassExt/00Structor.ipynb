{
 "cells": [
  {
   "cell_type": "markdown",
   "metadata": {},
   "source": [
    "### 생성자\n",
    "\n",
    "``__init__`` : 어떤 클래스의 객체가 생성될 때 자동으로 호출되는 **매직 메소드**.    \n",
    "``매직 메소드`` : 메직 메소드는 메소드의 시작과 끝이 __로 되어있으며 파이썬에서 특별하게 정의 되어있는 메소드이다. "
   ]
  },
  {
   "cell_type": "code",
   "execution_count": 1,
   "metadata": {},
   "outputs": [],
   "source": [
    "class Student:\n",
    "    count = 0\n",
    "\n",
    "    # 생성자 함수 정의 (이름, 번호)    \n",
    "    # 이름과 번호를 초기화하고 count를 1 늘린다.\n",
    "    def __init__(self, name, number):\n",
    "        self.name = name\n",
    "        self.number = number\n",
    "        Student.count += 1\n",
    "\n",
    "    # get_count 함수 정의\n",
    "    # count 값을 리턴한다. count는 클래스 변수이기 때문에 Student에서 호출한다.\n",
    "    def get_count(self):\n",
    "        return Student.count\n",
    "    "
   ]
  },
  {
   "cell_type": "markdown",
   "metadata": {},
   "source": [
    "### 클로저\n",
    "\n",
    "``클로저`` : 함수 안에 내부함수를 구현하고 그 내부함수를 리턴하는 함수"
   ]
  },
  {
   "cell_type": "code",
   "execution_count": 2,
   "metadata": {},
   "outputs": [],
   "source": [
    "class Mul:\n",
    "    def __init__(self, m):\n",
    "        self.m = m\n",
    "    \n",
    "    def mul3(self):\n",
    "        return self.m * 3\n",
    "    def mul5(self):\n",
    "        return self.m * 5\n",
    "    def mul8(self):\n",
    "        return self.m * 8\n",
    "\n",
    "# 매우 비효율적"
   ]
  },
  {
   "cell_type": "code",
   "execution_count": 3,
   "metadata": {},
   "outputs": [
    {
     "name": "stdout",
     "output_type": "stream",
     "text": [
      "30\n",
      "50\n"
     ]
    }
   ],
   "source": [
    "# 클로저를 안 썼을 경우\n",
    "class Mul:\n",
    "    def __init__(self, m):\n",
    "        self.m = m\n",
    "    \n",
    "    def mul(self, n):\n",
    "        return self.m * n\n",
    "    \n",
    "mul3 = Mul(3)\n",
    "mul5 = Mul(5)\n",
    "\n",
    "print(mul3.mul(10))  # 30 출력\n",
    "print(mul5.mul(10))  # 50 출력"
   ]
  },
  {
   "cell_type": "markdown",
   "metadata": {},
   "source": [
    "메직 메소드 ``__call__``은 객체에 인수를 전달하여 바로 호출할 수 있도록 하는 메서드 (객체의 이름에서 바로 호출)"
   ]
  },
  {
   "cell_type": "code",
   "execution_count": 4,
   "metadata": {},
   "outputs": [
    {
     "name": "stdout",
     "output_type": "stream",
     "text": [
      "30\n",
      "50\n"
     ]
    }
   ],
   "source": [
    "# 클로저\n",
    "class Mul:\n",
    "    def __init__(self, m):\n",
    "        self.m = m\n",
    "    \n",
    "    def __call__(self, n):\n",
    "        return self.m * n\n",
    "    \n",
    "mul3 = Mul(3)\n",
    "mul5 = Mul(5)\n",
    "\n",
    "print(mul3(10))  # 30 출력\n",
    "print(mul5(10))  # 50 출력"
   ]
  },
  {
   "cell_type": "markdown",
   "metadata": {},
   "source": [
    "클로저는 내부함수에서 "
   ]
  },
  {
   "cell_type": "code",
   "execution_count": 5,
   "metadata": {},
   "outputs": [
    {
     "name": "stdout",
     "output_type": "stream",
     "text": [
      "30\n",
      "50\n"
     ]
    }
   ],
   "source": [
    "# 클로저 (외부함수 안의 내부함수)\n",
    "def Mul(m):\n",
    "    def wrapper(n):\n",
    "        return m * n\n",
    "    return wrapper\n",
    "    \n",
    "mul3 = Mul(3)\n",
    "mul5 = Mul(5)\n",
    "\n",
    "print(mul3(10))  # 30 출력\n",
    "print(mul5(10))  # 50 출력"
   ]
  },
  {
   "cell_type": "markdown",
   "metadata": {},
   "source": [
    "데코레이터\n",
    "어떤 함수가 있을 때 해당 함수를 직접 수정하지 않고 기능을 추가할 때 데코레이터를 사용"
   ]
  },
  {
   "cell_type": "code",
   "execution_count": 6,
   "metadata": {},
   "outputs": [
    {
     "name": "stdout",
     "output_type": "stream",
     "text": [
      "함수 실행\n",
      "함수 수행시간 : 0.0초\n"
     ]
    }
   ],
   "source": [
    "import time\n",
    "\n",
    "def elapsed():\n",
    "    start = time.time()\n",
    "    print(\"함수 실행\")   # 함수 실행 부분\n",
    "    end = time.time()\n",
    "    print(f\"함수 수행시간 : {end-start}초\")\n",
    "\n",
    "elapsed()"
   ]
  },
  {
   "cell_type": "markdown",
   "metadata": {},
   "source": [
    "### 데코레이터\n",
    "\n",
    "반복해서 작성해야하는 코드가 매우 많을 경우 매번 코드를 적용하는 것은 어렵다.   \n",
    "그때 반복되지 않는 부분을 함수로 전달하고 나머지 부분만 구현해 사용할 수 있는 데코레이터를 쓴다."
   ]
  },
  {
   "cell_type": "code",
   "execution_count": 7,
   "metadata": {},
   "outputs": [
    {
     "name": "stdout",
     "output_type": "stream",
     "text": [
      "함수 실행\n",
      "함수 수행시간 : 0.0초\n"
     ]
    }
   ],
   "source": [
    "import time\n",
    "\n",
    "def elapsed(original_func):         # 기존 함수 인자로 받음\n",
    "    def wrapper():\n",
    "        start = time.time()\n",
    "\n",
    "        result = original_func()    # 기존 함수 수행\n",
    "\n",
    "        end = time.time()\n",
    "\n",
    "        print(f\"함수 수행시간 : {end-start}초\")\n",
    "\n",
    "        return result\n",
    "    return wrapper\n",
    "\n",
    "def func():\n",
    "    print(\"함수 실행\")\n",
    "\n",
    "deco_func = elapsed(func)\n",
    "deco_func()"
   ]
  },
  {
   "cell_type": "code",
   "execution_count": 8,
   "metadata": {},
   "outputs": [
    {
     "ename": "TypeError",
     "evalue": "elapsed.<locals>.wrapper() takes 0 positional arguments but 1 was given",
     "output_type": "error",
     "traceback": [
      "\u001b[1;31m---------------------------------------------------------------------------\u001b[0m",
      "\u001b[1;31mTypeError\u001b[0m                                 Traceback (most recent call last)",
      "Cell \u001b[1;32mIn[8], line 20\u001b[0m\n\u001b[0;32m     16\u001b[0m \u001b[39m@elapsed\u001b[39m\n\u001b[0;32m     17\u001b[0m \u001b[39mdef\u001b[39;00m \u001b[39mfunc\u001b[39m(msg):\n\u001b[0;32m     18\u001b[0m     \u001b[39mprint\u001b[39m(\u001b[39mf\u001b[39m\u001b[39m\"\u001b[39m\u001b[39m{\u001b[39;00mmsg\u001b[39m}\u001b[39;00m\u001b[39m 메시지 출력. \u001b[39m\u001b[39m\"\u001b[39m)\n\u001b[1;32m---> 20\u001b[0m func(\u001b[39m\"\u001b[39;49m\u001b[39m안녕하세요\u001b[39;49m\u001b[39m\"\u001b[39;49m)\n",
      "\u001b[1;31mTypeError\u001b[0m: elapsed.<locals>.wrapper() takes 0 positional arguments but 1 was given"
     ]
    }
   ],
   "source": [
    "\n",
    "import time\n",
    "\n",
    "def elapsed(original_func):         # 기존 함수 인자로 받음\n",
    "    def wrapper():\n",
    "        start = time.time()\n",
    "\n",
    "        result = original_func()    # 기존 함수 수행\n",
    "\n",
    "        end = time.time()\n",
    "\n",
    "        print(f\"함수 수행시간 : {end-start}초\")\n",
    "\n",
    "        return result\n",
    "    return wrapper\n",
    "\n",
    "# 함수로 인자를 받게되면 에러메세지를 출력함\n",
    "@elapsed\n",
    "def func(msg):\n",
    "    print(f\"{msg} 메시지 출력. \")\n",
    "\n",
    "func(\"안녕하세요\")"
   ]
  },
  {
   "cell_type": "code",
   "execution_count": null,
   "metadata": {},
   "outputs": [
    {
     "name": "stdout",
     "output_type": "stream",
     "text": [
      "안녕하세요 메시지 출력. \n",
      "함수 수행시간 : 0.0001647472381591797초\n"
     ]
    }
   ],
   "source": [
    "import time\n",
    "\n",
    "def elapsed(original_func):         # 기존 함수 인자로 받음\n",
    "    def wrapper(*args, **kwargs):   # 인자 추가\n",
    "        start = time.time()\n",
    "\n",
    "        result = original_func(*args, **kwargs)    # 기존 함수 수행\n",
    "\n",
    "        end = time.time()\n",
    "\n",
    "        print(f\"함수 수행시간 : {end-start}초\")\n",
    "\n",
    "        return result\n",
    "    return wrapper\n",
    "\n",
    "@elapsed\n",
    "def func(msg):\n",
    "    print(f\"{msg} 메시지 출력. \")\n",
    "\n",
    "func(\"안녕하세요\")"
   ]
  },
  {
   "cell_type": "markdown",
   "metadata": {},
   "source": [
    "\n",
    "*args와 kwargs\n",
    "*args는 모든 입력 인수를 튜플로 변환하는 매개변수, **kwargs는 모든 ‘키=값’ 형태의 입력 인수를 딕셔너리로 변환하는 매개변수이다. 다음과 같은 형태의 호출을 살펴보자.\n",
    "\n",
    "```\n",
    ">>> func(1, 2, 3, name='foo', age=3)\n",
    "```\n",
    "func 함수가 입력 인수의 개수와 형태에 상관없이 모든 입력을 처리하려면 어떻게 해야 할까?\n",
    "\n",
    "```\n",
    ">>> def func(*args, **kwargs):\n",
    "...     print(args)\n",
    "...     print(kwargs)\n",
    "... \n",
    ">>> func(1, 2, 3, name='foo', age=3)\n",
    "```\n",
    "(1, 2, 3)\n",
    "{'age': 3, 'name': 'foo'}\n",
    "이처럼 func 함수에 *args, **kwargs라는 매개변수를 지정하면 다양한 입력 인수를 모두 처리할 수 있다.   \n",
    "이렇게 하면 1, 2, 3 같은 일반 입력은 args 튜플, name = 'foo'와 같은 ‘키=값’ 형태의 입력은 kwargs 딕셔너리로 저장한다.\n"
   ]
  },
  {
   "cell_type": "markdown",
   "metadata": {},
   "source": []
  }
 ],
 "metadata": {
  "kernelspec": {
   "display_name": "Python 3",
   "language": "python",
   "name": "python3"
  },
  "language_info": {
   "codemirror_mode": {
    "name": "ipython",
    "version": 3
   },
   "file_extension": ".py",
   "mimetype": "text/x-python",
   "name": "python",
   "nbconvert_exporter": "python",
   "pygments_lexer": "ipython3",
   "version": "3.11.4"
  },
  "orig_nbformat": 4
 },
 "nbformat": 4,
 "nbformat_minor": 2
}
