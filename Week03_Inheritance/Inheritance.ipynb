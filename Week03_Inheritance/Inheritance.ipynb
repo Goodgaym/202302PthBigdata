{
 "cells": [
  {
   "cell_type": "markdown",
   "metadata": {},
   "source": [
    "## 클래스 상속\n",
    "\n",
    "상속을 받으면 부모클래스의 변수, 메서드를 그대로 사용할 수 있다.   "
   ]
  },
  {
   "cell_type": "code",
   "execution_count": 1,
   "metadata": {},
   "outputs": [],
   "source": [
    "# 부모클래스 Animal\n",
    "class Animal:\n",
    "    def __init__(self, name, legs):\n",
    "        self.name = name\n",
    "        self.legs = legs\n",
    "\n",
    "    def eat(self):\n",
    "        print('yam.')\n",
    "    \n",
    "    def sleep(self):\n",
    "        print('Zzz')\n",
    "\n",
    "    def cry(self):\n",
    "        pass\n",
    "\n",
    "    def printInfo(self):\n",
    "        print(f\"{self.name} \\n legs : {self.legs}\")"
   ]
  },
  {
   "cell_type": "markdown",
   "metadata": {},
   "source": [
    "### 메서드 오버라이딩\n",
    "\n",
    "부모 클래스에서 정의한 메서드를 자식클래스에서 재정의하여 덮여 씌우는 것.   \n"
   ]
  },
  {
   "cell_type": "code",
   "execution_count": 2,
   "metadata": {},
   "outputs": [],
   "source": [
    "# 자식클래스 Dog, Cat\n",
    "class Dog(Animal):\n",
    "    def cry(self):      # 오버라이딩\n",
    "        super().cry()   # 슈퍼 함수\n",
    "        print(\"Woof\")\n",
    "\n",
    "class Cat(Animal):\n",
    "    def cry(self):\n",
    "        print(\"Meow\")"
   ]
  },
  {
   "cell_type": "code",
   "execution_count": 3,
   "metadata": {},
   "outputs": [
    {
     "name": "stdout",
     "output_type": "stream",
     "text": [
      "Woof\n",
      "Meow\n",
      "Dog \n",
      " legs : 4\n",
      "Cat \n",
      " legs : 4\n"
     ]
    }
   ],
   "source": [
    "dog = Dog(\"Dog\", 4)\n",
    "cat = Cat(\"Cat\", 4)\n",
    "\n",
    "dog.cry()\n",
    "cat.cry()\n",
    "\n",
    "dog.printInfo()\n",
    "cat.printInfo()"
   ]
  },
  {
   "cell_type": "markdown",
   "metadata": {},
   "source": [
    "자식클래스에서 부모클래스의 메서드를 가져오는 방법은   \n",
    "\n",
    "```\n",
    "super().printInfo(spider)    # (슈퍼 함수) 객체 정보가 존재   \n",
    "Animal.printInfo()           # 클래스에서 호출하기 때문에 객체정보 X\n",
    "```"
   ]
  },
  {
   "cell_type": "code",
   "execution_count": 4,
   "metadata": {},
   "outputs": [],
   "source": [
    "# 상속 + 생성자\n",
    "class Spider(Animal):\n",
    "    def __init__(self, name, legs, poison):\n",
    "        Animal.__init__(self, name, legs)\n",
    "        self.isPoison = poison\n",
    "\n",
    "    def printInfo(self):\n",
    "        super().printInfo()\n",
    "        if self.isPoison:\n",
    "            print(\" It's poisonous.\")\n",
    "        else:\n",
    "            print(\" It's not poisonous.\")"
   ]
  },
  {
   "cell_type": "code",
   "execution_count": 5,
   "metadata": {},
   "outputs": [
    {
     "name": "stdout",
     "output_type": "stream",
     "text": [
      "Spider \n",
      " legs : 8\n",
      " It's poisonous.\n",
      "Dog \n",
      " legs : 4\n"
     ]
    }
   ],
   "source": [
    "spider = Spider(\"Spider\", 8, True)\n",
    "\n",
    "spider.printInfo()\n",
    "dog.printInfo()"
   ]
  },
  {
   "cell_type": "markdown",
   "metadata": {},
   "source": [
    "### 다중 상속\n",
    "\n",
    "2개 이상의 부모클래스로부터 상속을 받는 자식클래스   "
   ]
  },
  {
   "cell_type": "code",
   "execution_count": 6,
   "metadata": {},
   "outputs": [],
   "source": [
    "# 부모클래스2 \n",
    "class Mech:\n",
    "    def charge(self):\n",
    "        print(\"Charging energy...\")\n",
    "\n",
    "# 다중 상속\n",
    "class AnimalRobot(Mech, Animal):\n",
    "    def eat(self):\n",
    "        print(\"System message : Replaced eating with charging.\")\n",
    "        super().charge()\n",
    "    \n",
    "    def sleep(self):\n",
    "        super().sleep()\n",
    "        print(\"System message : Robots don't need to sleep.\")\n",
    "\n",
    "    def cry(self):\n",
    "        print(\"Beep Beep\")"
   ]
  },
  {
   "cell_type": "code",
   "execution_count": 7,
   "metadata": {},
   "outputs": [
    {
     "name": "stdout",
     "output_type": "stream",
     "text": [
      "System message : Replaced eating with charging.\n",
      "Charging energy...\n",
      "Zzz\n",
      "System message : Robots don't need to sleep.\n",
      "Beep Beep\n"
     ]
    }
   ],
   "source": [
    "dogRobot = AnimalRobot(\"Dog Robot\", 4)\n",
    "\n",
    "dogRobot.eat()\n",
    "dogRobot.sleep()\n",
    "dogRobot.cry()\n"
   ]
  },
  {
   "cell_type": "markdown",
   "metadata": {},
   "source": [
    "### 다이아몬드 상속문제   \n",
    "\n",
    "똑같은 부모클래스를 가지는 자식클래스 2개를 다중 상속받는 또 다른 자식클래스가 만들어질 경우\n",
    "상위의 부모클래스가 여러개 생성되는 문제가 발생된다.\n",
    "\n",
    "> 해결 방법 : 다중 상속 받는 자식클래스 2개에 클래스명을 사용한 생성자를 사용하는것이 아닌 super()함수를 사용"
   ]
  },
  {
   "cell_type": "code",
   "execution_count": 8,
   "metadata": {},
   "outputs": [],
   "source": [
    "# 클래스 넣기\n",
    "class Fridge:\n",
    "    def __init__(self):\n",
    "        self.isOpened = False\n",
    "        self.items = []\n",
    "\n",
    "    def open(self):\n",
    "        self.isOpened = True\n",
    "        print(\"Fridge opened.\")\n",
    "    \n",
    "    def close(self):\n",
    "        self.isOpened = False\n",
    "        print(\"Fridge closed.\")\n",
    "\n",
    "    def put(self, thing):\n",
    "        if self.isOpened:\n",
    "            self.items.append(thing)\n",
    "            print(f\"Put in the fridge.\")\n",
    "        \n",
    "        else :\n",
    "            print(\"The fridge is closed.\")"
   ]
  },
  {
   "cell_type": "code",
   "execution_count": 9,
   "metadata": {},
   "outputs": [
    {
     "name": "stdout",
     "output_type": "stream",
     "text": [
      "Fridge opened.\n",
      "Put in the fridge.\n",
      "Fridge closed.\n"
     ]
    }
   ],
   "source": [
    "fridge = Fridge()\n",
    "fridge.open()\n",
    "fridge.put(dog)\n",
    "fridge.close()"
   ]
  },
  {
   "cell_type": "code",
   "execution_count": 10,
   "metadata": {},
   "outputs": [
    {
     "name": "stdout",
     "output_type": "stream",
     "text": [
      "[<__main__.Dog object at 0x00000183E109EED0>]\n"
     ]
    }
   ],
   "source": [
    "print(fridge.items)"
   ]
  },
  {
   "cell_type": "markdown",
   "metadata": {},
   "source": [
    "### 추상클래스\n",
    "부모클래스의 메서드이름만 정의해두고 나머지 구현은 모두 자식클래스에서 하는 클래스.\n"
   ]
  },
  {
   "cell_type": "code",
   "execution_count": 11,
   "metadata": {},
   "outputs": [],
   "source": [
    "spider.cry() # 정상적으로 동작. 하지만 원래는 동작하면 안됨."
   ]
  },
  {
   "cell_type": "code",
   "execution_count": 12,
   "metadata": {},
   "outputs": [],
   "source": [
    "#2 추상클래스\n",
    "# ABC (Abstract Base Class)\n",
    "from abc import abstractmethod, ABCMeta\n",
    "# 파이썬 기본라이브러리 \n",
    "\n",
    "class Item(metaclass=ABCMeta):\n",
    "    @abstractmethod\n",
    "    def showName(self):\n",
    "        pass\n",
    "\n",
    "# 추상클래스 메서드를 구현한 클래스\n",
    "class Food(Item):\n",
    "    def __init__(self, name):\n",
    "        self.name = name\n",
    "\n",
    "    def showName(self):\n",
    "        print(f\"{self.name} \")\n",
    "\n",
    "# 메서드 구현 안된 클래스\n",
    "class Invention(Item):\n",
    "    def __init__(self):\n",
    "        pass"
   ]
  },
  {
   "cell_type": "markdown",
   "metadata": {},
   "source": [
    "추상 클래스를 클래스로 상속받게 되면 구현하지 않은 메서드는 에러를 발생시킨다.   "
   ]
  },
  {
   "cell_type": "code",
   "execution_count": 14,
   "metadata": {},
   "outputs": [
    {
     "name": "stdout",
     "output_type": "stream",
     "text": [
      "Banana \n"
     ]
    }
   ],
   "source": [
    "banana = Food(\"Banana\")\n",
    "banana.showName()\n",
    "\n",
    "# noname = Invention() 추상 메서드 구현이 되어있지 않기 때문에 에러\n",
    "# noname.showName() "
   ]
  }
 ],
 "metadata": {
  "kernelspec": {
   "display_name": "Python 3",
   "language": "python",
   "name": "python3"
  },
  "language_info": {
   "codemirror_mode": {
    "name": "ipython",
    "version": 3
   },
   "file_extension": ".py",
   "mimetype": "text/x-python",
   "name": "python",
   "nbconvert_exporter": "python",
   "pygments_lexer": "ipython3",
   "version": "3.11.4"
  },
  "orig_nbformat": 4
 },
 "nbformat": 4,
 "nbformat_minor": 2
}
