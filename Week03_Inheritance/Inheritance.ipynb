{
 "cells": [
  {
   "cell_type": "code",
   "execution_count": 5,
   "metadata": {},
   "outputs": [],
   "source": [
    "# 부모클래스1 Animal\n",
    "class Animal:\n",
    "    def __init__(self, name, legs): # 1에 추가\n",
    "        self.name = name\n",
    "        self.legs = legs\n",
    "\n",
    "    def eat(self):\n",
    "        print('yammy')\n",
    "    \n",
    "    def sleep(self):\n",
    "        print('Zzz')\n",
    "\n",
    "    def cry(self):\n",
    "        pass\n",
    "\n",
    "    def printInfo(self):\n",
    "        print(f\"{self.name} \\n legs : {self.legs}\")"
   ]
  },
  {
   "cell_type": "code",
   "execution_count": 6,
   "metadata": {},
   "outputs": [],
   "source": [
    "# 자식클래스 Dog, Cat\n",
    "class Dog(Animal):\n",
    "    def cry(self):      # 오버라이딩\n",
    "        super().cry()   # 슈퍼 함수\n",
    "        print(\"Woof\")\n",
    "\n",
    "class Cat(Animal):\n",
    "    def cry(self):\n",
    "        print(\"Meow\")"
   ]
  },
  {
   "cell_type": "code",
   "execution_count": 7,
   "metadata": {},
   "outputs": [
    {
     "name": "stdout",
     "output_type": "stream",
     "text": [
      "Woof\n",
      "Meow\n"
     ]
    }
   ],
   "source": [
    "dog = Dog(\"Dog\", 4)\n",
    "cat = Cat(\"Cat\", 4)\n",
    "animal = Animal()\n",
    "dog.cry()\n",
    "cat.cry()"
   ]
  },
  {
   "cell_type": "code",
   "execution_count": 8,
   "metadata": {},
   "outputs": [
    {
     "name": "stdout",
     "output_type": "stream",
     "text": [
      "Spider \n",
      " legs : 8\n",
      " It's poisonous.\n",
      "Dog \n",
      " legs : 4\n"
     ]
    }
   ],
   "source": [
    "#1 상속 + 생성자\n",
    "class Spider(Animal):\n",
    "    def __init__(self, name, legs, poison):\n",
    "        Animal.__init__(self, name, legs)\n",
    "        self.isPoison = poison\n",
    "\n",
    "    def printInfo(self):\n",
    "        super().printInfo()\n",
    "        if self.isPoison:\n",
    "            print(\" It's poisonous.\")\n",
    "        else:\n",
    "            print(\" It's not poisonous.\")\n",
    "\n",
    "spider = Spider(\"Spider\", 8, True)\n",
    "spider.printInfo()\n",
    "dog.printInfo()"
   ]
  },
  {
   "cell_type": "code",
   "execution_count": 9,
   "metadata": {},
   "outputs": [],
   "source": [
    "# 부모클래스2 \n",
    "class Mech:\n",
    "    def charge(self):\n",
    "        print(\"Charging energy...\")\n",
    "\n",
    "# 다중 상속\n",
    "class AnimalRobot(Mech, Animal):\n",
    "    def cry(self):\n",
    "        print(\"Beep Beep\")\n",
    "    \n",
    "    def sleep(self):\n",
    "        super().sleep()\n",
    "        print(\"System message: Robots don't need to sleep. \")\n",
    "    \n",
    "    def eat(self):\n",
    "        print(\"System message: Replaced eating with charging.\")\n",
    "        super().charge()"
   ]
  },
  {
   "cell_type": "code",
   "execution_count": 10,
   "metadata": {},
   "outputs": [
    {
     "name": "stdout",
     "output_type": "stream",
     "text": [
      "Zzz\n",
      "System message: Robots don't need to sleep. \n",
      "System message: Replaced eating with charging.\n",
      "Charging energy...\n"
     ]
    }
   ],
   "source": [
    "dogRobot = AnimalRobot(\"Mech Robot\", 4)\n",
    "\n",
    "dogRobot.sleep()\n",
    "dogRobot.eat()"
   ]
  },
  {
   "cell_type": "markdown",
   "metadata": {},
   "source": [
    "다이아몬드 상속 문제\n",
    ": 다이아몬드 상속이 되면 최상위 부모클래스가 2개 생성된다.\n",
    "그럴땐 자식클래스에서 클래스명이 아닌 super 클래스를 호출하여 초기화"
   ]
  },
  {
   "cell_type": "code",
   "execution_count": 11,
   "metadata": {},
   "outputs": [],
   "source": [
    "# 클래스 넣기\n",
    "class Fridge:\n",
    "    def __init__(self):\n",
    "        self.isOpened = False\n",
    "        self.items = []\n",
    "\n",
    "    def open(self):\n",
    "        self.isOpened = True\n",
    "        print(\"Fridge opened.\")\n",
    "    \n",
    "    def close(self):\n",
    "        self.isOpened = False\n",
    "        print(\"Fridge closed.\")\n",
    "\n",
    "    def put(self, thing):\n",
    "        if self.isOpened:\n",
    "            self.items.append(thing)\n",
    "            print(f\"Put in the fridge.\")\n",
    "        \n",
    "        else :\n",
    "            print(\"The fridge is closed.\")"
   ]
  },
  {
   "cell_type": "code",
   "execution_count": 12,
   "metadata": {},
   "outputs": [
    {
     "name": "stdout",
     "output_type": "stream",
     "text": [
      "Fridge opened.\n",
      "Put in the fridge.\n",
      "Fridge closed.\n"
     ]
    }
   ],
   "source": [
    "fridge = Fridge()\n",
    "fridge.open()\n",
    "fridge.put(dog)\n",
    "fridge.close()"
   ]
  },
  {
   "cell_type": "code",
   "execution_count": 13,
   "metadata": {},
   "outputs": [
    {
     "name": "stdout",
     "output_type": "stream",
     "text": [
      "[<__main__.Dog object at 0x000001BFDC2C9010>]\n"
     ]
    }
   ],
   "source": [
    "print(fridge.items)"
   ]
  },
  {
   "cell_type": "code",
   "execution_count": 14,
   "metadata": {},
   "outputs": [],
   "source": [
    "spider.cry() # 정상적으로 동작. 하지만 원래는 동작하면 안됨."
   ]
  },
  {
   "cell_type": "code",
   "execution_count": 15,
   "metadata": {},
   "outputs": [],
   "source": [
    "#2 추상클래스\n",
    "# ABC (Abstract Base Class)\n",
    "from abc import abstractmethod, ABCMeta\n",
    "# 파이썬 기본라이브러리 \n",
    "\n",
    "class Item(metaclass=ABCMeta):\n",
    "    @abstractmethod\n",
    "    def showName(self):\n",
    "        pass\n",
    "\n",
    "# 추상클래스 메서드를 구현한 클래스\n",
    "class Food(Item):\n",
    "    def __init__(self, name):\n",
    "        self.name = name\n",
    "\n",
    "    def showName(self):\n",
    "        print(f\"{self.name} \")\n",
    "\n",
    "# 메서드 구현 안된 클래스\n",
    "class Invention(Item):\n",
    "    def __init__(self):\n",
    "        pass"
   ]
  },
  {
   "cell_type": "code",
   "execution_count": null,
   "metadata": {},
   "outputs": [
    {
     "name": "stdout",
     "output_type": "stream",
     "text": [
      "Banana \n"
     ]
    },
    {
     "ename": "TypeError",
     "evalue": "Can't instantiate abstract class Invention with abstract method showName",
     "output_type": "error",
     "traceback": [
      "\u001b[1;31m---------------------------------------------------------------------------\u001b[0m",
      "\u001b[1;31mTypeError\u001b[0m                                 Traceback (most recent call last)",
      "Cell \u001b[1;32mIn[16], line 4\u001b[0m\n\u001b[0;32m      1\u001b[0m banana \u001b[39m=\u001b[39m Food(\u001b[39m\"\u001b[39m\u001b[39mBanana\u001b[39m\u001b[39m\"\u001b[39m)\n\u001b[0;32m      2\u001b[0m banana\u001b[39m.\u001b[39mshowName()\n\u001b[1;32m----> 4\u001b[0m noname \u001b[39m=\u001b[39m Invention()\n\u001b[0;32m      5\u001b[0m noname\u001b[39m.\u001b[39mshowName()\n",
      "\u001b[1;31mTypeError\u001b[0m: Can't instantiate abstract class Invention with abstract method showName"
     ]
    }
   ],
   "source": [
    "banana = Food(\"Banana\")\n",
    "banana.showName()\n",
    "\n",
    "noname = Invention()\n",
    "# noname.showName() 에러!"
   ]
  },
  {
   "cell_type": "markdown",
   "metadata": {},
   "source": [
    "과제\n",
    "\n",
    "부모클래스, 자식클래스 만들기\n",
    "\n",
    "부모클래스에 메서드 2개 이상 구현.\n",
    "자식클래스는 부모클래스에 있는 메서드 1개 이상 오버라이딩 \n",
    "\n",
    "\\+ 부모클래스, 자식클래스 모두 생성자 쓰기 (자식클래스는 부모클래스의 생성자 호출)"
   ]
  }
 ],
 "metadata": {
  "kernelspec": {
   "display_name": "Python 3",
   "language": "python",
   "name": "python3"
  },
  "language_info": {
   "codemirror_mode": {
    "name": "ipython",
    "version": 3
   },
   "file_extension": ".py",
   "mimetype": "text/x-python",
   "name": "python",
   "nbconvert_exporter": "python",
   "pygments_lexer": "ipython3",
   "version": "3.11.4"
  },
  "orig_nbformat": 4
 },
 "nbformat": 4,
 "nbformat_minor": 2
}
